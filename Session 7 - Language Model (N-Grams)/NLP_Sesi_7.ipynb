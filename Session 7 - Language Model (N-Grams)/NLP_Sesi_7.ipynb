{
  "cells": [
    {
      "cell_type": "markdown",
      "metadata": {
        "id": "yVMySUBsbKcT"
      },
      "source": [
        "> **N-gram** is a sequence of the N-words in the modeling of NLP.\n",
        "\n",
        "Consider an example of the statement for modeling. “I love reading history books and watching documentaries”. In one-gram or unigram, there is a one-word sequence. As for the above statement, in one gram it can be “I”, “love”, “history”, “books”, “and”, “watching”, “documentaries”. In two-gram or the bi-gram, there is the two-word sequence i.e. “I love”, “love reading”, or “history books”. In the three-gram or the tri-gram, there are the three words sequences i.e. “I love reading”, “history books,” or “and watching documentaries”. The illustration of the N-gram modeling is given below:"
      ]
    },
    {
      "cell_type": "markdown",
      "metadata": {
        "id": "fZtxFjJKbRla"
      },
      "source": [
        "![agarwal_ngram_language_modeling_natural_language_processing_2.png](data:image/png;base64,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)"
      ]
    },
    {
      "cell_type": "markdown",
      "metadata": {
        "id": "IN7v84xmbXOy"
      },
      "source": [
        "Which N-Gram should be used as a language model?\n",
        "*   Bigger N, the model will be more accurate. But we may not get good estimates for N-Gram probabilities.\n",
        "*   Smaller N, the model will be less accurate. But we may get better estimates for N-Gram probabilities.\n",
        "*   In reality, we do not use higher than trigram (not more than bigram).\n"
      ]
    },
    {
      "cell_type": "code",
      "execution_count": 20,
      "metadata": {
        "id": "ajUDjVaRbJHp"
      },
      "outputs": [],
      "source": [
        "import pandas as pd\n",
        "from sklearn.feature_extraction.text import CountVectorizer\n",
        "from sklearn.metrics.pairwise import cosine_similarity"
      ]
    },
    {
      "cell_type": "code",
      "execution_count": 21,
      "metadata": {
        "id": "VVsJ5f3xbNVa"
      },
      "outputs": [],
      "source": [
        "class NGramLanguageModel:\n",
        "    def __init__(self, n):\n",
        "        self.n = n\n",
        "        self.vectorizer = CountVectorizer(analyzer='word', ngram_range=(n, n))\n",
        "    \n",
        "    def fit_transform(self, corpus):\n",
        "        return self.vectorizer.fit_transform(corpus)\n",
        "    \n",
        "    def transform(self, query):\n",
        "        return self.vectorizer.transform(query)"
      ]
    },
    {
      "cell_type": "code",
      "execution_count": 22,
      "metadata": {},
      "outputs": [],
      "source": [
        "def calculate_cosine_similarity(query, matrix):\n",
        "    similarities = cosine_similarity(query, matrix)\n",
        "    return similarities"
      ]
    },
    {
      "cell_type": "code",
      "execution_count": 23,
      "metadata": {},
      "outputs": [],
      "source": [
        "corpus = [\n",
        "    \"Here's Jonathan in his red shirt in the room.\",\n",
        "    \"Jonathan was wearing yellow pants taken from the room.\",\n",
        "    \"Jonathan was sitting in the room daydreaming.\"\n",
        "]\n",
        "\n",
        "query = \"Jonathan is wearing a red shirt and yellow pants in the room.\""
      ]
    },
    {
      "cell_type": "code",
      "execution_count": 24,
      "metadata": {},
      "outputs": [
        {
          "name": "stdout",
          "output_type": "stream",
          "text": [
            "2 Gram Model:\n",
            "   from the  here jonathan  his red  in his  in the  jonathan in  \\\n",
            "0         0              1        1       1       1            1   \n",
            "1         1              0        0       0       0            0   \n",
            "2         0              0        0       0       1            0   \n",
            "\n",
            "   jonathan was  pants taken  red shirt  room daydreaming  shirt in  \\\n",
            "0             0            0          1                 0         1   \n",
            "1             1            1          0                 0         0   \n",
            "2             1            0          0                 1         0   \n",
            "\n",
            "   sitting in  taken from  the room  was sitting  was wearing  wearing yellow  \\\n",
            "0           0           0         1            0            0               0   \n",
            "1           0           1         1            0            1               1   \n",
            "2           1           0         1            1            0               0   \n",
            "\n",
            "   yellow pants  \n",
            "0             0  \n",
            "1             1  \n",
            "2             0  \n",
            "[[0 0 0 0 1 0 0 0 1 0 0 0 0 1 0 0 0 1]]\n"
          ]
        }
      ],
      "source": [
        "n = 2\n",
        "\n",
        "ngram_model = NGramLanguageModel(n)\n",
        "matrix = ngram_model.fit_transform(corpus)\n",
        "query = ngram_model.transform([query])\n",
        "\n",
        "print(f\"{n} Gram Model:\")\n",
        "print(pd.DataFrame(matrix.A, columns=ngram_model.vectorizer.get_feature_names_out()))\n",
        "\n",
        "print(query.A)"
      ]
    },
    {
      "cell_type": "code",
      "execution_count": 26,
      "metadata": {},
      "outputs": [
        {
          "data": {
            "text/html": [
              "<div>\n",
              "<style scoped>\n",
              "    .dataframe tbody tr th:only-of-type {\n",
              "        vertical-align: middle;\n",
              "    }\n",
              "\n",
              "    .dataframe tbody tr th {\n",
              "        vertical-align: top;\n",
              "    }\n",
              "\n",
              "    .dataframe thead th {\n",
              "        text-align: right;\n",
              "    }\n",
              "</style>\n",
              "<table border=\"1\" class=\"dataframe\">\n",
              "  <thead>\n",
              "    <tr style=\"text-align: right;\">\n",
              "      <th></th>\n",
              "      <th>Data</th>\n",
              "      <th>Similarity</th>\n",
              "    </tr>\n",
              "  </thead>\n",
              "  <tbody>\n",
              "    <tr>\n",
              "      <th>0</th>\n",
              "      <td>Here's Jonathan in his red shirt in the room.</td>\n",
              "      <td>0.530330</td>\n",
              "    </tr>\n",
              "    <tr>\n",
              "      <th>1</th>\n",
              "      <td>Jonathan was wearing yellow pants taken from t...</td>\n",
              "      <td>0.353553</td>\n",
              "    </tr>\n",
              "    <tr>\n",
              "      <th>2</th>\n",
              "      <td>Jonathan was sitting in the room daydreaming.</td>\n",
              "      <td>0.408248</td>\n",
              "    </tr>\n",
              "  </tbody>\n",
              "</table>\n",
              "</div>"
            ],
            "text/plain": [
              "                                                Data  Similarity\n",
              "0      Here's Jonathan in his red shirt in the room.    0.530330\n",
              "1  Jonathan was wearing yellow pants taken from t...    0.353553\n",
              "2      Jonathan was sitting in the room daydreaming.    0.408248"
            ]
          },
          "execution_count": 26,
          "metadata": {},
          "output_type": "execute_result"
        }
      ],
      "source": [
        "similarities = calculate_cosine_similarity(query, matrix)\n",
        "data = {\n",
        "    'Data': corpus,\n",
        "    'Similarity': similarities[0]\n",
        "}\n",
        "df = pd.DataFrame(data)\n",
        "df"
      ]
    }
  ],
  "metadata": {
    "colab": {
      "provenance": []
    },
    "kernelspec": {
      "display_name": "Python 3",
      "name": "python3"
    },
    "language_info": {
      "codemirror_mode": {
        "name": "ipython",
        "version": 3
      },
      "file_extension": ".py",
      "mimetype": "text/x-python",
      "name": "python",
      "nbconvert_exporter": "python",
      "pygments_lexer": "ipython3",
      "version": "3.10.9"
    }
  },
  "nbformat": 4,
  "nbformat_minor": 0
}
