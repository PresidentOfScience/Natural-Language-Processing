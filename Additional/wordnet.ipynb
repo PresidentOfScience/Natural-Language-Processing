{
 "cells": [
  {
   "cell_type": "code",
   "execution_count": 1,
   "metadata": {},
   "outputs": [],
   "source": [
    "from nltk.corpus import wordnet"
   ]
  },
  {
   "cell_type": "code",
   "execution_count": 16,
   "metadata": {},
   "outputs": [
    {
     "name": "stdout",
     "output_type": "stream",
     "text": [
      "large : above average in size or number or quantity or magnitude or extent\n",
      "   Synonym: large\n",
      "     Antonym: small\n",
      "   Synonym: big\n",
      "     Antonym: little\n",
      "big : significant\n",
      "   Synonym: big\n",
      "bad : very intense\n",
      "   Synonym: bad\n",
      "   Synonym: big\n",
      "big : loud and firm\n",
      "   Synonym: big\n",
      "big : conspicuous in position or importance\n",
      "   Synonym: big\n",
      "   Synonym: large\n",
      "   Synonym: prominent\n",
      "big : prodigious\n",
      "   Synonym: big\n",
      "   Synonym: heavy\n",
      "boastful : exhibiting self-importance\n",
      "   Synonym: boastful\n",
      "   Synonym: braggart\n",
      "   Synonym: bragging\n",
      "   Synonym: braggy\n",
      "   Synonym: big\n",
      "   Synonym: cock-a-hoop\n",
      "   Synonym: crowing\n",
      "   Synonym: self-aggrandizing\n",
      "   Synonym: self-aggrandising\n",
      "big : feeling self-importance\n",
      "   Synonym: big\n",
      "   Synonym: swelled\n",
      "   Synonym: vainglorious\n",
      "adult : (of animals) fully developed\n",
      "   Synonym: adult\n",
      "   Synonym: big\n",
      "   Synonym: full-grown\n",
      "   Synonym: fully_grown\n",
      "   Synonym: grown\n",
      "   Synonym: grownup\n",
      "big : marked by intense physical force\n",
      "   Synonym: big\n",
      "big : generous and understanding and tolerant\n",
      "   Synonym: big\n",
      "   Synonym: large\n",
      "   Synonym: magnanimous\n",
      "big : given or giving freely\n",
      "   Synonym: big\n",
      "   Synonym: bighearted\n",
      "   Synonym: bounteous\n",
      "   Synonym: bountiful\n",
      "   Synonym: freehanded\n",
      "   Synonym: handsome\n",
      "   Synonym: giving\n",
      "   Synonym: liberal\n",
      "   Synonym: openhanded\n",
      "big : in an advanced stage of pregnancy\n",
      "   Synonym: big\n",
      "   Synonym: enceinte\n",
      "   Synonym: expectant\n",
      "   Synonym: gravid\n",
      "   Synonym: great\n",
      "   Synonym: large\n",
      "   Synonym: heavy\n",
      "   Synonym: with_child\n",
      "big : extremely well\n",
      "   Synonym: big\n",
      "boastfully : in a boastful manner\n",
      "   Synonym: boastfully\n",
      "   Synonym: vauntingly\n",
      "   Synonym: big\n",
      "   Synonym: large\n",
      "big : on a grand scale\n",
      "   Synonym: big\n",
      "     Antonym: small\n",
      "big : in a major way\n",
      "   Synonym: big\n"
     ]
    }
   ],
   "source": [
    "word = \"big\"\n",
    "synsets = wordnet.synsets(word)\n",
    "for syn in synsets:\n",
    "    print(f\"{syn.name().split('.')[0]} : {syn.definition()}\")\n",
    "    for lemma in syn.lemmas():\n",
    "        print(f\"   Synonym: {lemma.name()}\")\n",
    "        for antonym in lemma.antonyms():\n",
    "            print(f\"     Antonym: {antonym.name()}\")"
   ]
  }
 ],
 "metadata": {
  "kernelspec": {
   "display_name": "Python 3",
   "language": "python",
   "name": "python3"
  },
  "language_info": {
   "codemirror_mode": {
    "name": "ipython",
    "version": 3
   },
   "file_extension": ".py",
   "mimetype": "text/x-python",
   "name": "python",
   "nbconvert_exporter": "python",
   "pygments_lexer": "ipython3",
   "version": "3.10.9"
  },
  "orig_nbformat": 4
 },
 "nbformat": 4,
 "nbformat_minor": 2
}
