{
 "cells": [
  {
   "cell_type": "code",
   "execution_count": 2,
   "metadata": {},
   "outputs": [],
   "source": [
    "from sklearn.feature_extraction.text import TfidfVectorizer"
   ]
  },
  {
   "cell_type": "code",
   "execution_count": 3,
   "metadata": {},
   "outputs": [],
   "source": [
    "first_sentence = \"i like to play at the park\"\n",
    "second_sentence = \"i play baseball with friends the park\""
   ]
  },
  {
   "cell_type": "code",
   "execution_count": 19,
   "metadata": {},
   "outputs": [],
   "source": [
    "def tfidf(doc):\n",
    "    vectorizer = TfidfVectorizer()\n",
    "    tfidf_matrix = vectorizer.fit_transform(doc)\n",
    "    tfidf_names = vectorizer.get_feature_names_out()\n",
    "    print(tfidf_names)\n",
    "    for i in range(len(doc)):\n",
    "        tfidf_index = tfidf_matrix[i,:].nonzero()[1]\n",
    "        tfidf_scores = zip(tfidf_index, [tfidf_matrix[i, x] for x in tfidf_index])\n",
    "        tfidf_dict = {tfidf_names[a]: score for a, score in tfidf_scores}\n",
    "        print(f\"Doc {i}: {tfidf_dict}\")\n",
    "    return tfidf_matrix"
   ]
  },
  {
   "cell_type": "code",
   "execution_count": 20,
   "metadata": {},
   "outputs": [
    {
     "name": "stdout",
     "output_type": "stream",
     "text": [
      "['at' 'baseball' 'friends' 'like' 'park' 'play' 'the' 'to' 'with']\n",
      "Doc 0: {'park': 0.3347122780719073, 'the': 0.3347122780719073, 'at': 0.4704264280854632, 'play': 0.3347122780719073, 'to': 0.4704264280854632, 'like': 0.4704264280854632}\n",
      "Doc 1: {'friends': 0.47042642808546326, 'with': 0.47042642808546326, 'baseball': 0.47042642808546326, 'park': 0.33471227807190734, 'the': 0.33471227807190734, 'play': 0.33471227807190734}\n"
     ]
    }
   ],
   "source": [
    "matrix = tfidf([first_sentence, second_sentence])"
   ]
  },
  {
   "cell_type": "code",
   "execution_count": 23,
   "metadata": {},
   "outputs": [
    {
     "name": "stdout",
     "output_type": "stream",
     "text": [
      "Cosine similarity = 0.3360969272762574\n"
     ]
    }
   ],
   "source": [
    "A = matrix.toarray()[0]\n",
    "B = matrix.toarray()[1]\n",
    "\n",
    "import numpy as np\n",
    "from numpy.linalg import norm\n",
    "\n",
    "cosine = np.dot(A, B)/(norm(A) * norm(B))\n",
    "print(f\"Cosine similarity = {cosine}\")"
   ]
  }
 ],
 "metadata": {
  "kernelspec": {
   "display_name": "Python 3",
   "language": "python",
   "name": "python3"
  },
  "language_info": {
   "codemirror_mode": {
    "name": "ipython",
    "version": 3
   },
   "file_extension": ".py",
   "mimetype": "text/x-python",
   "name": "python",
   "nbconvert_exporter": "python",
   "pygments_lexer": "ipython3",
   "version": "3.10.9"
  },
  "orig_nbformat": 4
 },
 "nbformat": 4,
 "nbformat_minor": 2
}
